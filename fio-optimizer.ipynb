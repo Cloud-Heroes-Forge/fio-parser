{
 "cells": [
  {
   "cell_type": "code",
   "execution_count": 58,
   "metadata": {},
   "outputs": [],
   "source": [
    "from utils import models\n",
    "from utils.models import FioBase\n",
    "import subprocess"
   ]
  },
  {
   "cell_type": "code",
   "execution_count": null,
   "metadata": {},
   "outputs": [],
   "source": [
    "f = FioBase()\n",
    "fio_params = [(\"--bs\", \"8k\"), \n",
    "              (\"--name\", \"job1\"), \n",
    "              (\"--ioengine\",\"libaio\"), \n",
    "              (\"--iodepth\", \"1\"), \n",
    "              (\"--size\",\"20m\"), \n",
    "              (\"--filename\",\"/tmp/test.fio\"), \n",
    "              (\"--direct\", \"1\"),\n",
    "              (\"--rw\", \"randread\"),\n",
    "              (\"--runtime\", \"5\"),\n",
    "              \"--group_reporting\",\n",
    "              \"--time_based\"]\n",
    "param_list: list = [\"--output-format=json\"]\n",
    "for param in fio_params:\n",
    "    print(type(param))\n",
    "    if type(param) == str:\n",
    "        param_list.append(param)\n",
    "    else:\n",
    "        param_list.append(param[0] + \"=\" + param[1])\n",
    "param_list"
   ]
  },
  {
   "cell_type": "code",
   "execution_count": null,
   "metadata": {},
   "outputs": [],
   "source": [
    "fio_process = subprocess.run([\"fio\"] + param_list,\n",
    "                                capture_output=True)\n",
    "fio_process.stdout"
   ]
  },
  {
   "cell_type": "code",
   "execution_count": 60,
   "metadata": {},
   "outputs": [
    {
     "data": {
      "text/plain": [
       "'{\"read_bandwidth\": 27295, \"read_latency\": 292.341675, \"read_iops\": 3411.917725, \"write_bandwidth\": 0, \"write_latency\": 0.0, \"write_iops\": 0.0, \"total_bandwidth\": 27295, \"timestamp\": \"Mon Dec 19 15:28:44 2022\", \"duration\": 6, \"total_iops\": 3411.917725, \"ERROR_CODE\": null}'"
      ]
     },
     "execution_count": 60,
     "metadata": {},
     "output_type": "execute_result"
    }
   ],
   "source": [
    "import json\n",
    "from utils.fio_runner import FioRunner\n",
    "json_result = json.loads(fio_process.stdout)\n",
    "fio = FioRunner()\n",
    "# dir(fio)\n",
    "fiobase = fio.stdout_to_FioBase(fio_process.stdout)\n",
    "str(fiobase)"
   ]
  },
  {
   "attachments": {},
   "cell_type": "markdown",
   "metadata": {},
   "source": [
    "# FioOptimizer Class\n",
    "## from optimal-io-depth-search.py"
   ]
  },
  {
   "cell_type": "code",
   "execution_count": 81,
   "metadata": {},
   "outputs": [],
   "source": [
    "from typing import Any, Union\n",
    "from math import floor\n",
    "from utils.parsers import get_file, parse_config\n",
    "from utils.models import FioBase\n",
    "from utils.converters import average\n",
    "from argparse import ArgumentParser, Namespace"
   ]
  },
  {
   "cell_type": "code",
   "execution_count": 100,
   "metadata": {},
   "outputs": [],
   "source": [
    "\n",
    "class FioOptimizer:\n",
    "    \"\"\"\n",
    "    //TODO//\n",
    "    \"\"\"\n",
    "    best_run: FioBase\n",
    "    optimal_queue_depth: int\n",
    "    config: dict\n",
    "    runs: dict\n",
    "\n",
    "    def __init__(self,\n",
    "                 runs: dict = None,\n",
    "                 best_run: FioBase = None,\n",
    "                 optimal_queue_depth: int = 0,\n",
    "                 config: dict = None, \n",
    "                 min: int = 1,\n",
    "                 max: int = 65536):\n",
    "\n",
    "        self.runs = runs\n",
    "        self.config = config\n",
    "        self.best_run: FioBase = best_run\n",
    "        self.optimal_queue_depth: int = optimal_queue_depth\n",
    "        self.min: int = min\n",
    "        self.max: int = max\n",
    "\n",
    "    def find_optimal_iodepth(self) -> None:\n",
    "        is_optimial: bool = False\n",
    "        starting_io_depths: list = [self.min, self.max]    # gotta start some where\n",
    "\n",
    "        for io_depth in starting_io_depths:\n",
    "            self.config['io_depth'] = io_depth\n",
    "            fio_run = self.prepare_and_run_fio(io_depth=io_depth)\n",
    "            self.runs[io_depth] = fio_run\n",
    "\n",
    "        while not is_optimial: \n",
    "            if max.io_depth - min.io_depth <= 1:\n",
    "                self.best_run = max if max.total_iops > min.total_iops else min \n",
    "                is_optimial: bool = True\n",
    "            else:\n",
    "                next_iodepth: int = floor(average(max.io_depth, min.io_depth))\n",
    "                self.config['io_depth'] = next_iodepth\n",
    "                fio_run = self.prepare_and_run_fio(io_depth=next_iodepth)\n",
    "                self.runs[next_iodepth] = fio_run\n",
    "                if average(self.min.total_iops, fio_run.total_iops) > average(fio_run.total_iops, self.max.total_iops):\n",
    "                    self.max = fio_run.io_depth\n",
    "                else: \n",
    "                    self.min = fio_run.io_depth\n",
    "\n",
    "        \n",
    "        # test limits (min, max)\n",
    "        # test midpoint between limits\n",
    "        # average results of min+midpoint and max+midpoint\n",
    "        # \n",
    "        # divide total from min and max into n buckets, then go test all of them,\n",
    "        # sort them \n",
    "        # range(min, max, (abs(max-min))/5)\n",
    "        # slices = 5 \n",
    "        # 10, 20, 2 # ((20-10)/slices = 2)\n",
    "        # k = [10, 12, 14, 16, 18]\n",
    "        # when I do the loop, test if k[n] is already tested\n",
    "        # find the best results from min, max, k[]\n",
    "        \n",
    "\n",
    "        # while not is_optimial:\n",
    "        #     sorted_runs_by_iops: list[FioBase] = sorted(self.runs, key=self.runs.get('total_iops'), reverse=True)\n",
    "        #     # are we going up or down?\n",
    "        #     if sorted_runs_by_iops[0].io_depth - sorted_runs_by_iops[1].io_depth <= 1:\n",
    "        #         is_optimial = True\n",
    "        #         self.optimal_queue_depth = sorted_runs_by_iops[0]\n",
    "        #         return \n",
    "        #     else: \n",
    "        #         next_io_depth = ((sorted_runs_by_iops[0].io_depth + sorted_runs_by_iops[1].io_depth) // 2)\n",
    "        #         if next_io_depth in self.runs:\n",
    "        #             next_io_depth = \n",
    "        #         else:\n",
    "        #             self.prepare_and_run_fio(io_depth=next_io_depth)\n",
    "\n",
    "    def prepare_and_run_fio(self, io_depth: int) -> FioBase:\n",
    "        print(\"Running Test with IO Depth = {0}\".format(io_depth))\n",
    "        param_list = [f\"{k}={v}\" if v else f\"{k}\" for k, v in self.config.items()]\n",
    "        print(f\"args: {param_list}\")\n",
    "        # fio_run_process: object = FioBase.run_fio(params=param_list)\n",
    "        fio_run_process = subprocess.run(['fio'] + param_list, capture_output=True)\n",
    "        fio_run: FioBase = FioBase()\n",
    "        fio_run.parse_stdout(fio_run_process.stdout)\n",
    "        return fio_run\n",
    "\n",
    "# pick a job count equal to number of CPUs\n",
    "#   Grab NIC speed as \"target\" maximum\n",
    "# decide which test to iterate next\n",
    "\n",
    "    def compare_run_throughput(self, new_run: FioBase) -> bool:\n",
    "        if new_run.total_bandwidth > self.best_run.total_bandwidth:\n",
    "            self.best_run = new_run\n",
    "            return True\n",
    "        return False\n",
    "\n",
    "f = FioOptimizer()\n"
   ]
  },
  {
   "cell_type": "code",
   "execution_count": 113,
   "metadata": {},
   "outputs": [
    {
     "name": "stdout",
     "output_type": "stream",
     "text": [
      "Fio Config: {'--bs': '8k', '--name': 'job1', '--ioengine': 'libaio', '--iodepth': '1', '--size': '2m', '--filename': './test.fio', '--direct': '1', '--rw': 'randread', '--runtime': '5s', '--group_reporting': None, '--output-format': 'json'}\n",
      "Running Test with IO Depth = 16\n",
      "args: ['--bs=8k', '--name=job1', '--ioengine=libaio', '--iodepth=1', '--size=2m', '--filename=./test.fio', '--direct=1', '--rw=randread', '--runtime=5s', '--group_reporting', '--output-format=json']\n",
      "{\"read_bandwidth\": 20897, \"read_latency\": 378.992188, \"read_iops\": 2612.244873, \"write_bandwidth\": 0, \"write_latency\": 0.0, \"write_iops\": 0.0, \"total_bandwidth\": 20897, \"timestamp\": \"Wed Dec 21 05:53:13 2022\", \"duration\": 1, \"total_iops\": 2612.244873, \"ERROR_CODE\": null}\n"
     ]
    }
   ],
   "source": [
    "fio_params = {\"--bs\": \"8k\", \n",
    "              \"--name\": \"job1\", \n",
    "              \"--ioengine\":\"libaio\", \n",
    "              \"--iodepth\": \"1\", \n",
    "              \"--size\": \"2m\", \n",
    "              \"--filename\": \"./test.fio\", \n",
    "              \"--direct\": \"1\",\n",
    "              \"--rw\": \"randread\",\n",
    "              \"--runtime\": \"5s\",\n",
    "              \"--group_reporting\": None,\n",
    "              \"--output-format\": \"json\"}\n",
    "param_list: list = [f\"{k}={v}\" for k, v in fio_params.items()]\n",
    "# print(fio_params)\n",
    "# print(param_list)\n",
    "\n",
    "fb = FioBase()\n",
    "fio= FioOptimizer(config=fio_params, min=6, max= 10) \n",
    "\n",
    "\n",
    "print(f\"Fio Config: {fio.config}\")\n",
    "# fio.find_optimal_iodepth()\n",
    "# a = fio.best_run.prepare_args(params=fio.config)\n",
    "# fio_process = subprocess.run(['fio'] + [f\"{k}={v}\" if v else f\"{k}\" for k, v in fio.config.items()], capture_output=True)\n",
    "# print(fio_process)\n",
    "\n",
    "# param_list = [f\"{k}={v}\" if v else f\"{k}\" for k, v in fio.config.items()]\n",
    "# print(param_list)\n",
    "# fio_process = subprocess.run(['fio'] + param_list, capture_output=True)\n",
    "# fio_process.stdout\n",
    "# fio_run: FioBase = FioBase()\n",
    "# fio_run.parse_stdout(raw_stdout=fio_process.stdout)\n",
    "print(fio.prepare_and_run_fio(io_depth=16))"
   ]
  },
  {
   "cell_type": "code",
   "execution_count": 114,
   "metadata": {},
   "outputs": [
    {
     "name": "stdout",
     "output_type": "stream",
     "text": [
      "Running Test with IO Depth = 6\n",
      "args: ['--bs=8k', '--name=job1', '--ioengine=libaio', '--iodepth=1', '--size=2m', '--filename=./test.fio', '--direct=1', '--rw=randread', '--runtime=5s', '--group_reporting', '--output-format=json', 'io_depth=6']\n"
     ]
    },
    {
     "ename": "RuntimeError",
     "evalue": "Failed to Parse FIO Output",
     "output_type": "error",
     "traceback": [
      "\u001b[0;31m---------------------------------------------------------------------------\u001b[0m",
      "\u001b[0;31mJSONDecodeError\u001b[0m                           Traceback (most recent call last)",
      "\u001b[0;32m~/code/fio-parser/utils/models.py\u001b[0m in \u001b[0;36mparse_stdout\u001b[0;34m(self, raw_stdout)\u001b[0m\n\u001b[1;32m     47\u001b[0m         \u001b[0;32mreturn\u001b[0m \u001b[0mfio_process\u001b[0m\u001b[0;34m\u001b[0m\u001b[0;34m\u001b[0m\u001b[0m\n\u001b[0;32m---> 48\u001b[0;31m \u001b[0;34m\u001b[0m\u001b[0m\n\u001b[0m\u001b[1;32m     49\u001b[0m \u001b[0;34m\u001b[0m\u001b[0m\n",
      "\u001b[0;32m/usr/lib64/python3.7/json/__init__.py\u001b[0m in \u001b[0;36mloads\u001b[0;34m(s, encoding, cls, object_hook, parse_float, parse_int, parse_constant, object_pairs_hook, **kw)\u001b[0m\n\u001b[1;32m    347\u001b[0m             parse_constant is None and object_pairs_hook is None and not kw):\n\u001b[0;32m--> 348\u001b[0;31m         \u001b[0;32mreturn\u001b[0m \u001b[0m_default_decoder\u001b[0m\u001b[0;34m.\u001b[0m\u001b[0mdecode\u001b[0m\u001b[0;34m(\u001b[0m\u001b[0ms\u001b[0m\u001b[0;34m)\u001b[0m\u001b[0;34m\u001b[0m\u001b[0;34m\u001b[0m\u001b[0m\n\u001b[0m\u001b[1;32m    349\u001b[0m     \u001b[0;32mif\u001b[0m \u001b[0mcls\u001b[0m \u001b[0;32mis\u001b[0m \u001b[0;32mNone\u001b[0m\u001b[0;34m:\u001b[0m\u001b[0;34m\u001b[0m\u001b[0;34m\u001b[0m\u001b[0m\n",
      "\u001b[0;32m/usr/lib64/python3.7/json/decoder.py\u001b[0m in \u001b[0;36mdecode\u001b[0;34m(self, s, _w)\u001b[0m\n\u001b[1;32m    336\u001b[0m         \"\"\"\n\u001b[0;32m--> 337\u001b[0;31m         \u001b[0mobj\u001b[0m\u001b[0;34m,\u001b[0m \u001b[0mend\u001b[0m \u001b[0;34m=\u001b[0m \u001b[0mself\u001b[0m\u001b[0;34m.\u001b[0m\u001b[0mraw_decode\u001b[0m\u001b[0;34m(\u001b[0m\u001b[0ms\u001b[0m\u001b[0;34m,\u001b[0m \u001b[0midx\u001b[0m\u001b[0;34m=\u001b[0m\u001b[0m_w\u001b[0m\u001b[0;34m(\u001b[0m\u001b[0ms\u001b[0m\u001b[0;34m,\u001b[0m \u001b[0;36m0\u001b[0m\u001b[0;34m)\u001b[0m\u001b[0;34m.\u001b[0m\u001b[0mend\u001b[0m\u001b[0;34m(\u001b[0m\u001b[0;34m)\u001b[0m\u001b[0;34m)\u001b[0m\u001b[0;34m\u001b[0m\u001b[0;34m\u001b[0m\u001b[0m\n\u001b[0m\u001b[1;32m    338\u001b[0m         \u001b[0mend\u001b[0m \u001b[0;34m=\u001b[0m \u001b[0m_w\u001b[0m\u001b[0;34m(\u001b[0m\u001b[0ms\u001b[0m\u001b[0;34m,\u001b[0m \u001b[0mend\u001b[0m\u001b[0;34m)\u001b[0m\u001b[0;34m.\u001b[0m\u001b[0mend\u001b[0m\u001b[0;34m(\u001b[0m\u001b[0;34m)\u001b[0m\u001b[0;34m\u001b[0m\u001b[0;34m\u001b[0m\u001b[0m\n",
      "\u001b[0;32m/usr/lib64/python3.7/json/decoder.py\u001b[0m in \u001b[0;36mraw_decode\u001b[0;34m(self, s, idx)\u001b[0m\n\u001b[1;32m    354\u001b[0m         \u001b[0;32mexcept\u001b[0m \u001b[0mStopIteration\u001b[0m \u001b[0;32mas\u001b[0m \u001b[0merr\u001b[0m\u001b[0;34m:\u001b[0m\u001b[0;34m\u001b[0m\u001b[0;34m\u001b[0m\u001b[0m\n\u001b[0;32m--> 355\u001b[0;31m             \u001b[0;32mraise\u001b[0m \u001b[0mJSONDecodeError\u001b[0m\u001b[0;34m(\u001b[0m\u001b[0;34m\"Expecting value\"\u001b[0m\u001b[0;34m,\u001b[0m \u001b[0ms\u001b[0m\u001b[0;34m,\u001b[0m \u001b[0merr\u001b[0m\u001b[0;34m.\u001b[0m\u001b[0mvalue\u001b[0m\u001b[0;34m)\u001b[0m \u001b[0;32mfrom\u001b[0m \u001b[0;32mNone\u001b[0m\u001b[0;34m\u001b[0m\u001b[0;34m\u001b[0m\u001b[0m\n\u001b[0m\u001b[1;32m    356\u001b[0m         \u001b[0;32mreturn\u001b[0m \u001b[0mobj\u001b[0m\u001b[0;34m,\u001b[0m \u001b[0mend\u001b[0m\u001b[0;34m\u001b[0m\u001b[0;34m\u001b[0m\u001b[0m\n",
      "\u001b[0;31mJSONDecodeError\u001b[0m: Expecting value: line 1 column 1 (char 0)",
      "\nDuring handling of the above exception, another exception occurred:\n",
      "\u001b[0;31mRuntimeError\u001b[0m                              Traceback (most recent call last)",
      "\u001b[0;32m/tmp/ipykernel_6468/2552922092.py\u001b[0m in \u001b[0;36m<module>\u001b[0;34m\u001b[0m\n\u001b[1;32m      1\u001b[0m \u001b[0mfio\u001b[0m\u001b[0;34m.\u001b[0m\u001b[0mmax\u001b[0m\u001b[0;34m\u001b[0m\u001b[0;34m\u001b[0m\u001b[0m\n\u001b[0;32m----> 2\u001b[0;31m \u001b[0mfio\u001b[0m\u001b[0;34m.\u001b[0m\u001b[0mfind_optimal_iodepth\u001b[0m\u001b[0;34m(\u001b[0m\u001b[0;34m)\u001b[0m\u001b[0;34m\u001b[0m\u001b[0;34m\u001b[0m\u001b[0m\n\u001b[0m",
      "\u001b[0;32m/tmp/ipykernel_6468/3501788326.py\u001b[0m in \u001b[0;36mfind_optimal_iodepth\u001b[0;34m(self)\u001b[0m\n\u001b[1;32m     29\u001b[0m         \u001b[0;32mfor\u001b[0m \u001b[0mio_depth\u001b[0m \u001b[0;32min\u001b[0m \u001b[0mstarting_io_depths\u001b[0m\u001b[0;34m:\u001b[0m\u001b[0;34m\u001b[0m\u001b[0;34m\u001b[0m\u001b[0m\n\u001b[1;32m     30\u001b[0m             \u001b[0mself\u001b[0m\u001b[0;34m.\u001b[0m\u001b[0mconfig\u001b[0m\u001b[0;34m[\u001b[0m\u001b[0;34m'io_depth'\u001b[0m\u001b[0;34m]\u001b[0m \u001b[0;34m=\u001b[0m \u001b[0mio_depth\u001b[0m\u001b[0;34m\u001b[0m\u001b[0;34m\u001b[0m\u001b[0m\n\u001b[0;32m---> 31\u001b[0;31m             \u001b[0mfio_run\u001b[0m \u001b[0;34m=\u001b[0m \u001b[0mself\u001b[0m\u001b[0;34m.\u001b[0m\u001b[0mprepare_and_run_fio\u001b[0m\u001b[0;34m(\u001b[0m\u001b[0mio_depth\u001b[0m\u001b[0;34m=\u001b[0m\u001b[0mio_depth\u001b[0m\u001b[0;34m)\u001b[0m\u001b[0;34m\u001b[0m\u001b[0;34m\u001b[0m\u001b[0m\n\u001b[0m\u001b[1;32m     32\u001b[0m             \u001b[0mself\u001b[0m\u001b[0;34m.\u001b[0m\u001b[0mruns\u001b[0m\u001b[0;34m[\u001b[0m\u001b[0mio_depth\u001b[0m\u001b[0;34m]\u001b[0m \u001b[0;34m=\u001b[0m \u001b[0mfio_run\u001b[0m\u001b[0;34m\u001b[0m\u001b[0;34m\u001b[0m\u001b[0m\n\u001b[1;32m     33\u001b[0m \u001b[0;34m\u001b[0m\u001b[0m\n",
      "\u001b[0;32m/tmp/ipykernel_6468/3501788326.py\u001b[0m in \u001b[0;36mprepare_and_run_fio\u001b[0;34m(self, io_depth)\u001b[0m\n\u001b[1;32m     82\u001b[0m         \u001b[0mfio_run_process\u001b[0m \u001b[0;34m=\u001b[0m \u001b[0msubprocess\u001b[0m\u001b[0;34m.\u001b[0m\u001b[0mrun\u001b[0m\u001b[0;34m(\u001b[0m\u001b[0;34m[\u001b[0m\u001b[0;34m'fio'\u001b[0m\u001b[0;34m]\u001b[0m \u001b[0;34m+\u001b[0m \u001b[0mparam_list\u001b[0m\u001b[0;34m,\u001b[0m \u001b[0mcapture_output\u001b[0m\u001b[0;34m=\u001b[0m\u001b[0;32mTrue\u001b[0m\u001b[0;34m)\u001b[0m\u001b[0;34m\u001b[0m\u001b[0;34m\u001b[0m\u001b[0m\n\u001b[1;32m     83\u001b[0m         \u001b[0mfio_run\u001b[0m\u001b[0;34m:\u001b[0m \u001b[0mFioBase\u001b[0m \u001b[0;34m=\u001b[0m \u001b[0mFioBase\u001b[0m\u001b[0;34m(\u001b[0m\u001b[0;34m)\u001b[0m\u001b[0;34m\u001b[0m\u001b[0;34m\u001b[0m\u001b[0m\n\u001b[0;32m---> 84\u001b[0;31m         \u001b[0mfio_run\u001b[0m\u001b[0;34m.\u001b[0m\u001b[0mparse_stdout\u001b[0m\u001b[0;34m(\u001b[0m\u001b[0mfio_run_process\u001b[0m\u001b[0;34m.\u001b[0m\u001b[0mstdout\u001b[0m\u001b[0;34m)\u001b[0m\u001b[0;34m\u001b[0m\u001b[0;34m\u001b[0m\u001b[0m\n\u001b[0m\u001b[1;32m     85\u001b[0m         \u001b[0;32mreturn\u001b[0m \u001b[0mfio_run\u001b[0m\u001b[0;34m\u001b[0m\u001b[0;34m\u001b[0m\u001b[0m\n\u001b[1;32m     86\u001b[0m \u001b[0;34m\u001b[0m\u001b[0m\n",
      "\u001b[0;32m~/code/fio-parser/utils/models.py\u001b[0m in \u001b[0;36mparse_stdout\u001b[0;34m(self, raw_stdout)\u001b[0m\n\u001b[1;32m     57\u001b[0m             \u001b[0mself\u001b[0m\u001b[0;34m.\u001b[0m\u001b[0mwrite_bandwidth\u001b[0m \u001b[0;34m=\u001b[0m \u001b[0mjson_result\u001b[0m\u001b[0;34m[\u001b[0m\u001b[0;34m'jobs'\u001b[0m\u001b[0;34m]\u001b[0m\u001b[0;34m[\u001b[0m\u001b[0;36m0\u001b[0m\u001b[0;34m]\u001b[0m\u001b[0;34m[\u001b[0m\u001b[0;34m'write'\u001b[0m\u001b[0;34m]\u001b[0m\u001b[0;34m[\u001b[0m\u001b[0;34m'bw'\u001b[0m\u001b[0;34m]\u001b[0m\u001b[0;34m\u001b[0m\u001b[0;34m\u001b[0m\u001b[0m\n\u001b[1;32m     58\u001b[0m             \u001b[0mself\u001b[0m\u001b[0;34m.\u001b[0m\u001b[0mwrite_latency\u001b[0m \u001b[0;34m=\u001b[0m \u001b[0mjson_result\u001b[0m\u001b[0;34m[\u001b[0m\u001b[0;34m'jobs'\u001b[0m\u001b[0;34m]\u001b[0m\u001b[0;34m[\u001b[0m\u001b[0;36m0\u001b[0m\u001b[0;34m]\u001b[0m\u001b[0;34m[\u001b[0m\u001b[0;34m'write'\u001b[0m\u001b[0;34m]\u001b[0m\u001b[0;34m[\u001b[0m\u001b[0;34m'lat'\u001b[0m\u001b[0;34m]\u001b[0m\u001b[0;34m[\u001b[0m\u001b[0;34m'mean'\u001b[0m\u001b[0;34m]\u001b[0m\u001b[0;34m\u001b[0m\u001b[0;34m\u001b[0m\u001b[0m\n\u001b[0;32m---> 59\u001b[0;31m             \u001b[0mself\u001b[0m\u001b[0;34m.\u001b[0m\u001b[0mduration\u001b[0m \u001b[0;34m=\u001b[0m \u001b[0mjson_result\u001b[0m\u001b[0;34m[\u001b[0m\u001b[0;34m'jobs'\u001b[0m\u001b[0;34m]\u001b[0m\u001b[0;34m[\u001b[0m\u001b[0;36m0\u001b[0m\u001b[0;34m]\u001b[0m\u001b[0;34m[\u001b[0m\u001b[0;34m'elapsed'\u001b[0m\u001b[0;34m]\u001b[0m\u001b[0;34m\u001b[0m\u001b[0;34m\u001b[0m\u001b[0m\n\u001b[0m\u001b[1;32m     60\u001b[0m             \u001b[0mself\u001b[0m\u001b[0;34m.\u001b[0m\u001b[0mtimestamp\u001b[0m \u001b[0;34m=\u001b[0m \u001b[0mjson_result\u001b[0m\u001b[0;34m[\u001b[0m\u001b[0;34m'time'\u001b[0m\u001b[0;34m]\u001b[0m\u001b[0;34m\u001b[0m\u001b[0;34m\u001b[0m\u001b[0m\n\u001b[1;32m     61\u001b[0m             \u001b[0mself\u001b[0m\u001b[0;34m.\u001b[0m\u001b[0msummarize\u001b[0m\u001b[0;34m(\u001b[0m\u001b[0;34m)\u001b[0m\u001b[0;34m\u001b[0m\u001b[0;34m\u001b[0m\u001b[0m\n",
      "\u001b[0;31mRuntimeError\u001b[0m: Failed to Parse FIO Output"
     ]
    }
   ],
   "source": [
    "fio.max\n",
    "fio.find_optimal_iodepth()"
   ]
  }
 ],
 "metadata": {
  "kernelspec": {
   "display_name": "Python 3",
   "language": "python",
   "name": "python3"
  },
  "language_info": {
   "codemirror_mode": {
    "name": "ipython",
    "version": 3
   },
   "file_extension": ".py",
   "mimetype": "text/x-python",
   "name": "python",
   "nbconvert_exporter": "python",
   "pygments_lexer": "ipython3",
   "version": "3.7.15"
  },
  "orig_nbformat": 4,
  "vscode": {
   "interpreter": {
    "hash": "916dbcbb3f70747c44a77c7bcd40155683ae19c65e1c03b4aa3499c5328201f1"
   }
  }
 },
 "nbformat": 4,
 "nbformat_minor": 2
}
