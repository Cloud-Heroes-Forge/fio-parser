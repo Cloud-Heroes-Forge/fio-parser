{
 "cells": [
  {
   "attachments": {},
   "cell_type": "markdown",
   "metadata": {},
   "source": [
    "# Original testing"
   ]
  },
  {
   "cell_type": "code",
   "execution_count": 1,
   "metadata": {},
   "outputs": [],
   "source": [
    "from utils import models\n",
    "from utils.models import FioBase\n",
    "import subprocess"
   ]
  },
  {
   "cell_type": "code",
   "execution_count": 2,
   "metadata": {},
   "outputs": [
    {
     "name": "stdout",
     "output_type": "stream",
     "text": [
      "<class 'tuple'>\n",
      "<class 'tuple'>\n",
      "<class 'tuple'>\n",
      "<class 'tuple'>\n",
      "<class 'tuple'>\n",
      "<class 'tuple'>\n",
      "<class 'tuple'>\n",
      "<class 'tuple'>\n",
      "<class 'tuple'>\n",
      "<class 'str'>\n",
      "<class 'str'>\n"
     ]
    },
    {
     "data": {
      "text/plain": [
       "['--output-format=json',\n",
       " '--bs=8k',\n",
       " '--name=job1',\n",
       " '--ioengine=libaio',\n",
       " '--iodepth=1',\n",
       " '--size=20m',\n",
       " '--filename=/tmp/test.fio',\n",
       " '--direct=1',\n",
       " '--rw=randread',\n",
       " '--runtime=5',\n",
       " '--group_reporting',\n",
       " '--time_based']"
      ]
     },
     "execution_count": 2,
     "metadata": {},
     "output_type": "execute_result"
    }
   ],
   "source": [
    "f = FioBase()\n",
    "fio_params = [(\"--bs\", \"16k\"), \n",
    "              (\"--name\", \"job1\"), \n",
    "              (\"--ioengine\",\"libaio\"), \n",
    "              (\"--iodepth\", \"1\"), \n",
    "              (\"--size\",\"20m\"), \n",
    "              (\"--filename\",\"/tmp/test.fio\"), \n",
    "              (\"--direct\", \"1\"),\n",
    "              (\"--rw\", \"randrw\"),\n",
    "              (\"--runtime\", \"8\"),\n",
    "              \"--group_reporting\",\n",
    "              \"--time_based\"]\n",
    "param_list: list = [\"--output-format=json\"]\n",
    "for param in fio_params:\n",
    "    print(type(param))\n",
    "    if type(param) == str:\n",
    "        param_list.append(param)\n",
    "    else:\n",
    "        param_list.append(param[0] + \"=\" + param[1])\n",
    "param_list"
   ]
  },
  {
   "cell_type": "code",
   "execution_count": null,
   "metadata": {},
   "outputs": [],
   "source": [
    "fio_process = subprocess.run([\"fio\"] + param_list,\n",
    "                                capture_output=True)\n",
    "fio_process.stdout"
   ]
  },
  {
   "cell_type": "code",
   "execution_count": null,
   "metadata": {},
   "outputs": [],
   "source": [
    "import json\n",
    "from utils.fio_runner import FioRunner\n",
    "json_result = json.loads(fio_process.stdout)\n",
    "fio = FioRunner()\n",
    "# dir(fio)\n",
    "fiobase = fio.stdout_to_FioBase(fio_process.stdout)\n",
    "str(fiobase)"
   ]
  },
  {
   "attachments": {},
   "cell_type": "markdown",
   "metadata": {},
   "source": [
    "# FioOptimizer Class\n",
    "## from optimal-io-depth-search.py"
   ]
  },
  {
   "cell_type": "code",
   "execution_count": 2,
   "metadata": {},
   "outputs": [],
   "source": [
    "%load_ext autoreload\n",
    "%autoreload 2"
   ]
  },
  {
   "cell_type": "code",
   "execution_count": null,
   "metadata": {},
   "outputs": [],
   "source": [
    "# Notes\n",
    "\n",
    "# fio.find_optimal_iodepth()\n",
    "# a = fio.best_run.prepare_args(params=fio.config)\n",
    "# fio_process = subprocess.run(['fio'] + [f\"{k}={v}\" if v else f\"{k}\" for k, v in fio.config.items()], capture_output=True)\n",
    "# print(fio_process)\n",
    "\n",
    "# param_list = [f\"{k}={v}\" if v else f\"{k}\" for k, v in fio.config.items()]\n",
    "# print(param_list)\n",
    "# fio_process = subprocess.run(['fio'] + param_list, capture_output=True)\n",
    "# fio_process.stdout\n",
    "# fio_run: FioBase = FioBase()\n",
    "# fio_run.parse_stdout(raw_stdout=fio_process.stdout)\n",
    "# print(fio.prepare_and_run_fio(io_depth=6))\n",
    "# print(fio.prepare_and_run_fio(io_depth=8))\n",
    "# print(fio.prepare_and_run_fio(io_depth=10))\n",
    "\n",
    "\n",
    "\n",
    "#  Start at 1,40\n",
    "# where do I go in the middle?\n",
    "# slices = 5 \n",
    "# range(1,40 abs(40-1)/slices)  39/5 = 7.x 1+7, 1+(7*2), 1+(7*3), 1+(7*4)\n",
    "\n",
    "# Future TODO - version 1.5+\n",
    "# determine protocol, \n",
    "# bundle fio with the repo\n",
    "# system tunables (max tcp slot table entry, others)\n",
    "\n",
    "# TODO (for MVP)\n",
    "#   128*nconnect number\n",
    "#   128*nr_smb_sessions\n",
    "#   either total_iops as a ratio of latency OR look at delta of total_iops as compared to the delta of latency\n",
    "#       if the latency_delta is larger than iops_delta then store smallest value of latency_delta  \n",
    "#   option for max_io_rate\n",
    "#   option for max_io_rate_before_knee_of_curve\n",
    "\n",
    "\n",
    "\n",
    "\n",
    "\n",
    "\n",
    "\n",
    "\n",
    "\n",
    "\n",
    "# for multihost, we'll have to use an fio config file (fio expects this) and not with cmdline flags"
   ]
  },
  {
   "cell_type": "code",
   "execution_count": 3,
   "metadata": {},
   "outputs": [],
   "source": [
    "from utils import models\n",
    "from utils.models import FioOptimizer, FioBase\n",
    "\n",
    "fio_params = {\"--bs\": \"16k\", \n",
    "              \"--name\": \"job1\", \n",
    "              \"--ioengine\":\"libaio\", \n",
    "              \"--iodepth\": \"1\", \n",
    "              \"--size\": \"300m\", \n",
    "              \"--filename\": \"/mnt/testvol/test.fio\", \n",
    "              \"--direct\": \"1\",\n",
    "              \"--rw\": \"randrw\",\n",
    "              \"--runtime\": \"8s\",\n",
    "              \"--time_based\": None,\n",
    "              \"--group_reporting\": None,\n",
    "              \"--output-format\": \"json\",\n",
    "              \"--norandommap\": None,\n",
    "              \"--dedupe_percentage\": 0,\n",
    "              \"--buffer_compress_percentage\": 50,\n",
    "              \"--buffer_compress_chunk\": 4096,\n",
    "              \"--buffer_pattern\": \"\\\"aaaa\\\"\"}\n",
    "param_list: list = [f\"{k}={v}\" for k, v in fio_params.items()]\n",
    "# print(fio_params)\n",
    "# print(param_list)\n",
    "\n",
    "fio = FioOptimizer(config=fio_params, min=1, max=75) \n",
    "\n",
    "# # print(f\"Fio Config: {fio.config}\")\n",
    "\n",
    "# is_optimial: bool = False\n",
    "\n",
    "# starting_io_depths: list = [fio.min, fio.max]    # gotta start some where\n",
    "\n",
    "# for io_depth in starting_io_depths:\n",
    "#     fio.config['--iodepth'] = io_depth\n",
    "#     # print(fio.config)\n",
    "#     fio.prepare_and_run_fio(io_depths=[io_depth])\n",
    "#     # fio.runs[io_depth] = fio_run\n"
   ]
  },
  {
   "cell_type": "code",
   "execution_count": 4,
   "metadata": {},
   "outputs": [
    {
     "name": "stdout",
     "output_type": "stream",
     "text": [
      "min: 1\t max: 75\n",
      "Running Test with IO Depth = 1\n",
      "Running Test with IO Depth = 75\n",
      "Running Test with IO Depth = 25\n",
      "Running Test with IO Depth = 49\n",
      "Running Test with IO Depth = 73\n",
      "min: 9\t max: 42\n",
      "Running Test with IO Depth = 9\n",
      "Running Test with IO Depth = 42\n",
      "Running Test with IO Depth = 20\n",
      "Running Test with IO Depth = 31\n",
      "min: 9\t max: 25\n",
      "Running Test with IO Depth = 14\n",
      "Running Test with IO Depth = 19\n",
      "Running Test with IO Depth = 24\n",
      "min: 9\t max: 14\n",
      "Running Test with IO Depth = 10\n",
      "Running Test with IO Depth = 11\n",
      "Running Test with IO Depth = 12\n",
      "Running Test with IO Depth = 13\n",
      "min: 9\t max: 7\n",
      "Running Test with IO Depth = 7\n",
      "Optimal IO Depth: 7\n",
      "IOPS              : 10499.125488\n",
      "Latency           : 665.3822175 µs\n",
      "Throughput        : 167985  KiBps\n",
      "\n",
      "{\"read_bandwidth\": 83691, \"read_latency\": 507.278656, \"read_iops\": 5230.692383, \"write_bandwidth\": 84294, \"write_latency\": 823.485779, \"write_iops\": 5268.433105, \"total_bandwidth\": 167985, \"timestamp\": \"Wed Jan 25 19:42:59 2023\", \"duration\": 9, \"total_iops\": 10499.125488, \"io_depth\": 7, \"jobs\": 0, \"ERROR_CODE\": null, \"iops_latency_ratio\": 15.779089389325316, \"avg_latency\": 665.3822175}\n"
     ]
    }
   ],
   "source": [
    "fio.find_optimal_iodepth()\n",
    "print(fio.best_run)"
   ]
  },
  {
   "cell_type": "code",
   "execution_count": 5,
   "metadata": {},
   "outputs": [
    {
     "name": "stdout",
     "output_type": "stream",
     "text": [
      "Index(['read_bandwidth', 'read_latency', 'read_iops', 'write_bandwidth',\n",
      "       'write_latency', 'write_iops', 'total_bandwidth', 'timestamp',\n",
      "       'duration', 'total_iops', 'io_depth', 'jobs', 'ERROR_CODE',\n",
      "       'iops_latency_ratio', 'avg_latency'],\n",
      "      dtype='object')\n"
     ]
    },
    {
     "data": {
      "text/plain": [
       "<AxesSubplot:xlabel='io_depth', ylabel='iops_latency_ratio'>"
      ]
     },
     "execution_count": 5,
     "metadata": {},
     "output_type": "execute_result"
    },
    {
     "data": {
      "image/png": "[encoded data removed]",
      "text/plain": [
       "<Figure size 640x480 with 1 Axes>"
      ]
     },
     "metadata": {},
     "output_type": "display_data"
    }
   ],
   "source": [
    "import pandas as pd \n",
    "import json\n",
    "df = pd.DataFrame([x.__dict__ for x in fio.runs.values()])\n",
    "print(df.columns)\n",
    "# df.plot(x='io_depth', y='iops_latency_ratio', kind='scatter')\n",
    "df.plot(y='iops_latency_ratio', x='io_depth', kind='scatter')"
   ]
  },
  {
   "cell_type": "code",
   "execution_count": 13,
   "metadata": {},
   "outputs": [],
   "source": [
    "df.to_csv('example.csv')"
   ]
  },
  {
   "attachments": {},
   "cell_type": "markdown",
   "metadata": {},
   "source": [
    "##Notes\n",
    "\n",
    "    # test limits (min, max)\n",
    "    # test midpoint between limits\n",
    "    # average results of min+midpoint and max+midpoint\n",
    "    # \n",
    "    # divide total from min and max into n buckets, then go test all of them,\n",
    "    # sort them \n",
    "    # range(min, max, (abs(max-min))/5)\n",
    "    # slices = 5 \n",
    "    # 10, 20, 2 # ((20-10)/slices = 2)\n",
    "    # k = [10, 12, 14, 16, 18]\n",
    "    # when I do the loop, test if k[n] is already tested\n",
    "    # find the best results from min, max, k[]\n",
    "    \n",
    "\n",
    "    # while not is_optimial:\n",
    "    #     sorted_runs_by_iops: list[FioBase] = sorted(self.runs, key=self.runs.get('total_iops'), reverse=True)\n",
    "    #     # are we going up or down?\n",
    "    #     if sorted_runs_by_iops[0].io_depth - sorted_runs_by_iops[1].io_depth <= 1:\n",
    "    #         is_optimial = True\n",
    "    #         self.optimal_queue_depth = sorted_runs_by_iops[0]\n",
    "    #         return \n",
    "    #     else: \n",
    "    #         next_io_depth = ((sorted_runs_by_iops[0].io_depth + sorted_runs_by_iops[1].io_depth) // 2)\n",
    "    #         if next_io_depth in self.runs:\n",
    "    #             next_io_depth = \n",
    "    #         else:\n",
    "    #             self.prepare_and_run_fio(io_depth=next_io_depth)\n",
    "    "
   ]
  }
 ],
 "metadata": {
  "kernelspec": {
   "display_name": "Python 3",
   "language": "python",
   "name": "python3"
  },
  "language_info": {
   "codemirror_mode": {
    "name": "ipython",
    "version": 3
   },
   "file_extension": ".py",
   "mimetype": "text/x-python",
   "name": "python",
   "nbconvert_exporter": "python",
   "pygments_lexer": "ipython3",
   "version": "3.7.15 (default, Oct 31 2022, 22:44:31) \n[GCC 7.3.1 20180712 (Red Hat 7.3.1-15)]"
  },
  "orig_nbformat": 4,
  "vscode": {
   "interpreter": {
    "hash": "31f2aee4e71d21fbe5cf8b01ff0e069b9275f58929596ceb00d14d90e3e16cd6"
   }
  }
 },
 "nbformat": 4,
 "nbformat_minor": 2
}
