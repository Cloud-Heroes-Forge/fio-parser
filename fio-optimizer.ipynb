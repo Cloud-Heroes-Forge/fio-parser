{
 "cells": [
  {
   "cell_type": "code",
   "execution_count": 58,
   "metadata": {},
   "outputs": [],
   "source": [
    "from utils import models\n",
    "from utils.models import FioBase\n",
    "import subprocess"
   ]
  },
  {
   "cell_type": "code",
   "execution_count": null,
   "metadata": {},
   "outputs": [],
   "source": [
    "f = FioBase()\n",
    "fio_params = [(\"--bs\", \"8k\"), \n",
    "              (\"--name\", \"job1\"), \n",
    "              (\"--ioengine\",\"libaio\"), \n",
    "              (\"--iodepth\", \"1\"), \n",
    "              (\"--size\",\"20m\"), \n",
    "              (\"--filename\",\"/tmp/test.fio\"), \n",
    "              (\"--direct\", \"1\"),\n",
    "              (\"--rw\", \"randread\"),\n",
    "              (\"--runtime\", \"5\"),\n",
    "              \"--group_reporting\",\n",
    "              \"--time_based\"]\n",
    "param_list: list = [\"--output-format=json\"]\n",
    "for param in fio_params:\n",
    "    print(type(param))\n",
    "    if type(param) == str:\n",
    "        param_list.append(param)\n",
    "    else:\n",
    "        param_list.append(param[0] + \"=\" + param[1])\n",
    "param_list"
   ]
  },
  {
   "cell_type": "code",
   "execution_count": null,
   "metadata": {},
   "outputs": [],
   "source": [
    "fio_process = subprocess.run([\"fio\"] + param_list,\n",
    "                                capture_output=True)\n",
    "fio_process.stdout"
   ]
  },
  {
   "cell_type": "code",
   "execution_count": 60,
   "metadata": {},
   "outputs": [
    {
     "data": {
      "text/plain": [
       "'{\"read_bandwidth\": 27295, \"read_latency\": 292.341675, \"read_iops\": 3411.917725, \"write_bandwidth\": 0, \"write_latency\": 0.0, \"write_iops\": 0.0, \"total_bandwidth\": 27295, \"timestamp\": \"Mon Dec 19 15:28:44 2022\", \"duration\": 6, \"total_iops\": 3411.917725, \"ERROR_CODE\": null}'"
      ]
     },
     "execution_count": 60,
     "metadata": {},
     "output_type": "execute_result"
    }
   ],
   "source": [
    "import json\n",
    "from utils.fio_runner import FioRunner\n",
    "json_result = json.loads(fio_process.stdout)\n",
    "fio = FioRunner()\n",
    "# dir(fio)\n",
    "fiobase = fio.stdout_to_FioBase(fio_process.stdout)\n",
    "str(fiobase)"
   ]
  },
  {
   "attachments": {},
   "cell_type": "markdown",
   "metadata": {},
   "source": [
    "# FioOptimizer Class\n",
    "## from optimal-io-depth-search.py"
   ]
  },
  {
   "cell_type": "code",
   "execution_count": 4,
   "metadata": {},
   "outputs": [],
   "source": [
    "%load_ext autoreload\n",
    "%autoreload 2\n",
    "\n"
   ]
  },
  {
   "cell_type": "code",
   "execution_count": null,
   "metadata": {},
   "outputs": [
    {
     "name": "stdout",
     "output_type": "stream",
     "text": [
      "Fio Config: {'--bs': '8k', '--name': 'job1', '--ioengine': 'libaio', '--iodepth': '1', '--size': '20m', '--filename': './test.fio', '--direct': '1', '--rw': 'randread', '--runtime': '10s', '--time_based': 1, '--group_reporting': None, '--output-format': 'json'}\n"
     ]
    }
   ],
   "source": [
    "from utils import models\n",
    "from utils.models import FioOptimizer, FioBase\n",
    "\n",
    "fio_params = {\"--bs\": \"8k\", \n",
    "              \"--name\": \"job1\", \n",
    "              \"--ioengine\":\"libaio\", \n",
    "              \"--iodepth\": \"1\", \n",
    "              \"--size\": \"20m\", \n",
    "              \"--filename\": \"./test.fio\", \n",
    "              \"--direct\": \"1\",\n",
    "              \"--rw\": \"randread\",\n",
    "              \"--runtime\": \"10s\",\n",
    "              \"--time_based\": 1,\n",
    "              \"--group_reporting\": None,\n",
    "              \"--output-format\": \"json\",\n",
    "              \"--norandommap\": None,\n",
    "              \"--randrepeat\": 0,\n",
    "              \"--dedupe_percentage\": 0,\n",
    "              \"--buffer_compress_percentage\": 50,\n",
    "              \"--buffer_compress_chunk\": 1024,\n",
    "              \"--buffer_pattern\": \"aaaa\"}\n",
    "param_list: list = [f\"{k}={v}\" for k, v in fio_params.items()]\n",
    "# print(fio_params)\n",
    "# print(param_list)\n",
    "\n",
    "fio= FioOptimizer(config=fio_params, min=1, max= 40) \n",
    "\n",
    "print(f\"Fio Config: {fio.config}\")\n",
    "# fio.find_optimal_iodepth()\n",
    "# a = fio.best_run.prepare_args(params=fio.config)\n",
    "# fio_process = subprocess.run(['fio'] + [f\"{k}={v}\" if v else f\"{k}\" for k, v in fio.config.items()], capture_output=True)\n",
    "# print(fio_process)\n",
    "\n",
    "# param_list = [f\"{k}={v}\" if v else f\"{k}\" for k, v in fio.config.items()]\n",
    "# print(param_list)\n",
    "# fio_process = subprocess.run(['fio'] + param_list, capture_output=True)\n",
    "# fio_process.stdout\n",
    "# fio_run: FioBase = FioBase()\n",
    "# fio_run.parse_stdout(raw_stdout=fio_process.stdout)\n",
    "# print(fio.prepare_and_run_fio(io_depth=6))\n",
    "# print(fio.prepare_and_run_fio(io_depth=8))\n",
    "# print(fio.prepare_and_run_fio(io_depth=10))\n",
    "\n",
    "\n",
    "\n",
    "#  Start at 1,40\n",
    "# where do I go in the middle?\n",
    "# slices = 5 \n",
    "# range(1,40 abs(40-1)/slices)  39/5 = 7.x 1+7, 1+(7*2), 1+(7*3), 1+(7*4)\n",
    "\n",
    "# Future TODO - version 1.5+\n",
    "# determine protocol, \n",
    "# bundle fio with the repo\n",
    "# system tunables (max tcp slot table entry, others)\n",
    "\n",
    "# TODO (for MVP)\n",
    "#   128*nconnect number\n",
    "#   128*nr_smb_sessions\n",
    "#   either total_iops as a ratio of latency OR look at delta of total_iops as compared to the delta of latency\n",
    "#       if the latency_delta is larger than iops_delta then store smallest value of latency_delta  \n",
    "#   option for max_io_rate\n",
    "#   option for max_io_rate_before_knee_of_curve\n"
   ]
  },
  {
   "cell_type": "code",
   "execution_count": 72,
   "metadata": {},
   "outputs": [
    {
     "name": "stdout",
     "output_type": "stream",
     "text": [
      "{'--bs': '8k', '--name': 'job1', '--ioengine': 'libaio', '--iodepth': 6, '--size': '2m', '--filename': './test.fio', '--direct': '1', '--rw': 'randread', '--runtime': '5s', '--group_reporting': None, '--output-format': 'json'}\n",
      "Running Test with IO Depth = 6\n",
      "parsing output for IO Depth = 6\n",
      "{\"read_bandwidth\": 81920, \"read_latency\": 580.421875, \"read_iops\": 10240.0, \"write_bandwidth\": 0, \"write_latency\": 0.0, \"write_iops\": 0.0, \"total_bandwidth\": 81920, \"timestamp\": \"Wed Dec 21 20:55:33 2022\", \"duration\": 1, \"total_iops\": 10240.0, \"io_depth\": 6, \"jobs\": 0, \"ERROR_CODE\": null}\n",
      "{'--bs': '8k', '--name': 'job1', '--ioengine': 'libaio', '--iodepth': 10, '--size': '2m', '--filename': './test.fio', '--direct': '1', '--rw': 'randread', '--runtime': '5s', '--group_reporting': None, '--output-format': 'json'}\n",
      "Running Test with IO Depth = 6\n",
      "parsing output for IO Depth = 6\n",
      "{\"read_bandwidth\": 128000, \"read_latency\": 596.953125, \"read_iops\": 16000.0, \"write_bandwidth\": 0, \"write_latency\": 0.0, \"write_iops\": 0.0, \"total_bandwidth\": 128000, \"timestamp\": \"Wed Dec 21 20:55:34 2022\", \"duration\": 1, \"total_iops\": 16000.0, \"io_depth\": 6, \"jobs\": 0, \"ERROR_CODE\": null}\n"
     ]
    }
   ],
   "source": [
    "is_optimial: bool = False\n",
    "\n",
    "starting_io_depths: list = [fio.min, fio.max]    # gotta start some where\n",
    "\n",
    "for io_depth in starting_io_depths:\n",
    "    fio.config['--iodepth'] = io_depth\n",
    "    print(fio.config)\n",
    "    fio_run = fio.prepare_and_run_fio(io_depth=6)\n",
    "    fio.runs[io_depth] = fio_run\n"
   ]
  },
  {
   "cell_type": "code",
   "execution_count": 81,
   "metadata": {},
   "outputs": [
    {
     "name": "stdout",
     "output_type": "stream",
     "text": [
      "Running Test with IO Depth = 1\n",
      "parsing output for IO Depth = 1\n",
      "{\"read_bandwidth\": 25859, \"read_latency\": 308.701416, \"read_iops\": 3232.376709, \"write_bandwidth\": 0, \"write_latency\": 0.0, \"write_iops\": 0.0, \"total_bandwidth\": 25859, \"timestamp\": \"Wed Dec 21 21:07:37 2022\", \"duration\": 11, \"total_iops\": 3232.376709, \"io_depth\": 1, \"jobs\": 0, \"ERROR_CODE\": null}\n",
      "Running Test with IO Depth = 36\n",
      "parsing output for IO Depth = 36\n",
      "{\"read_bandwidth\": 24929, \"read_latency\": 11551.109375, \"read_iops\": 3116.172119, \"write_bandwidth\": 0, \"write_latency\": 0.0, \"write_iops\": 0.0, \"total_bandwidth\": 24929, \"timestamp\": \"Wed Dec 21 21:07:48 2022\", \"duration\": 11, \"total_iops\": 3116.172119, \"io_depth\": 36, \"jobs\": 0, \"ERROR_CODE\": null}\n",
      "Running Test with IO Depth = 8\n",
      "parsing output for IO Depth = 8\n",
      "{\"read_bandwidth\": 24954, \"read_latency\": 2563.638672, \"read_iops\": 3119.364258, \"write_bandwidth\": 0, \"write_latency\": 0.0, \"write_iops\": 0.0, \"total_bandwidth\": 24954, \"timestamp\": \"Wed Dec 21 21:07:58 2022\", \"duration\": 11, \"total_iops\": 3119.364258, \"io_depth\": 8, \"jobs\": 0, \"ERROR_CODE\": null}\n",
      "Running Test with IO Depth = 15\n",
      "parsing output for IO Depth = 15\n",
      "{\"read_bandwidth\": 25088, \"read_latency\": 4782.230469, \"read_iops\": 3136.031982, \"write_bandwidth\": 0, \"write_latency\": 0.0, \"write_iops\": 0.0, \"total_bandwidth\": 25088, \"timestamp\": \"Wed Dec 21 21:08:09 2022\", \"duration\": 11, \"total_iops\": 3136.031982, \"io_depth\": 15, \"jobs\": 0, \"ERROR_CODE\": null}\n",
      "Running Test with IO Depth = 22\n",
      "parsing output for IO Depth = 22\n",
      "{\"read_bandwidth\": 24935, \"read_latency\": 7056.840332, \"read_iops\": 3116.906494, \"write_bandwidth\": 0, \"write_latency\": 0.0, \"write_iops\": 0.0, \"total_bandwidth\": 24935, \"timestamp\": \"Wed Dec 21 21:08:19 2022\", \"duration\": 11, \"total_iops\": 3116.906494, \"io_depth\": 22, \"jobs\": 0, \"ERROR_CODE\": null}\n",
      "Running Test with IO Depth = 29\n",
      "parsing output for IO Depth = 29\n",
      "{\"read_bandwidth\": 24950, \"read_latency\": 9296.765625, \"read_iops\": 3118.78125, \"write_bandwidth\": 0, \"write_latency\": 0.0, \"write_iops\": 0.0, \"total_bandwidth\": 24950, \"timestamp\": \"Wed Dec 21 21:08:29 2022\", \"duration\": 11, \"total_iops\": 3118.78125, \"io_depth\": 29, \"jobs\": 0, \"ERROR_CODE\": null}\n",
      "Running Test with IO Depth = 6\n",
      "parsing output for IO Depth = 6\n",
      "{\"read_bandwidth\": 24911, \"read_latency\": 1925.942017, \"read_iops\": 3113.977295, \"write_bandwidth\": 0, \"write_latency\": 0.0, \"write_iops\": 0.0, \"total_bandwidth\": 24911, \"timestamp\": \"Wed Dec 21 21:08:40 2022\", \"duration\": 11, \"total_iops\": 3113.977295, \"io_depth\": 6, \"jobs\": 0, \"ERROR_CODE\": null}\n",
      "Running Test with IO Depth = 11\n",
      "parsing output for IO Depth = 11\n",
      "{\"read_bandwidth\": 24983, \"read_latency\": 3521.38501, \"read_iops\": 3122.950928, \"write_bandwidth\": 0, \"write_latency\": 0.0, \"write_iops\": 0.0, \"total_bandwidth\": 24983, \"timestamp\": \"Wed Dec 21 21:08:50 2022\", \"duration\": 11, \"total_iops\": 3122.950928, \"io_depth\": 11, \"jobs\": 0, \"ERROR_CODE\": null}\n",
      "Running Test with IO Depth = 16\n",
      "parsing output for IO Depth = 16\n",
      "{\"read_bandwidth\": 25049, \"read_latency\": 5108.916992, \"read_iops\": 3131.234375, \"write_bandwidth\": 0, \"write_latency\": 0.0, \"write_iops\": 0.0, \"total_bandwidth\": 25049, \"timestamp\": \"Wed Dec 21 21:09:01 2022\", \"duration\": 11, \"total_iops\": 3131.234375, \"io_depth\": 16, \"jobs\": 0, \"ERROR_CODE\": null}\n",
      "Running Test with IO Depth = 21\n",
      "parsing output for IO Depth = 21\n",
      "{\"read_bandwidth\": 25004, \"read_latency\": 6717.746094, \"read_iops\": 3125.512207, \"write_bandwidth\": 0, \"write_latency\": 0.0, \"write_iops\": 0.0, \"total_bandwidth\": 25004, \"timestamp\": \"Wed Dec 21 21:09:11 2022\", \"duration\": 11, \"total_iops\": 3125.512207, \"io_depth\": 21, \"jobs\": 0, \"ERROR_CODE\": null}\n",
      "Running Test with IO Depth = 26\n",
      "parsing output for IO Depth = 26\n",
      "{\"read_bandwidth\": 24924, \"read_latency\": 8343.546875, \"read_iops\": 3115.595947, \"write_bandwidth\": 0, \"write_latency\": 0.0, \"write_iops\": 0.0, \"total_bandwidth\": 24924, \"timestamp\": \"Wed Dec 21 21:09:22 2022\", \"duration\": 11, \"total_iops\": 3115.595947, \"io_depth\": 26, \"jobs\": 0, \"ERROR_CODE\": null}\n"
     ]
    },
    {
     "ename": "KeyboardInterrupt",
     "evalue": "",
     "output_type": "error",
     "traceback": [
      "\u001b[0;31m---------------------------------------------------------------------------\u001b[0m",
      "\u001b[0;31mKeyboardInterrupt\u001b[0m                         Traceback (most recent call last)",
      "\u001b[0;32m/tmp/ipykernel_22273/1299196437.py\u001b[0m in \u001b[0;36m<module>\u001b[0;34m\u001b[0m\n\u001b[0;32m----> 1\u001b[0;31m \u001b[0mfio\u001b[0m\u001b[0;34m.\u001b[0m\u001b[0mfind_optimal_iodepth\u001b[0m\u001b[0;34m(\u001b[0m\u001b[0;34m)\u001b[0m\u001b[0;34m\u001b[0m\u001b[0;34m\u001b[0m\u001b[0m\n\u001b[0m\u001b[1;32m      2\u001b[0m \u001b[0mprint\u001b[0m\u001b[0;34m(\u001b[0m\u001b[0mfio\u001b[0m\u001b[0;34m.\u001b[0m\u001b[0mbest_run\u001b[0m\u001b[0;34m)\u001b[0m\u001b[0;34m\u001b[0m\u001b[0;34m\u001b[0m\u001b[0m\n",
      "\u001b[0;32m~/code/fio-parser/utils/models.py\u001b[0m in \u001b[0;36mfind_optimal_iodepth\u001b[0;34m(self)\u001b[0m\n\u001b[1;32m    122\u001b[0m                 \u001b[0;32mfor\u001b[0m \u001b[0mnext_iodepth\u001b[0m \u001b[0;32min\u001b[0m \u001b[0mrange\u001b[0m\u001b[0;34m(\u001b[0m\u001b[0mself\u001b[0m\u001b[0;34m.\u001b[0m\u001b[0mmin\u001b[0m\u001b[0;34m,\u001b[0m \u001b[0mself\u001b[0m\u001b[0;34m.\u001b[0m\u001b[0mmax\u001b[0m\u001b[0;34m,\u001b[0m \u001b[0mmax\u001b[0m\u001b[0;34m(\u001b[0m\u001b[0mabs\u001b[0m\u001b[0;34m(\u001b[0m\u001b[0;34m(\u001b[0m\u001b[0mself\u001b[0m\u001b[0;34m.\u001b[0m\u001b[0mmax\u001b[0m \u001b[0;34m-\u001b[0m \u001b[0mself\u001b[0m\u001b[0;34m.\u001b[0m\u001b[0mmin\u001b[0m\u001b[0;34m)\u001b[0m\u001b[0;34m//\u001b[0m\u001b[0mself\u001b[0m\u001b[0;34m.\u001b[0m\u001b[0mslices\u001b[0m\u001b[0;34m)\u001b[0m\u001b[0;34m,\u001b[0m\u001b[0;36m1\u001b[0m\u001b[0;34m)\u001b[0m\u001b[0;34m)\u001b[0m\u001b[0;34m:\u001b[0m\u001b[0;34m\u001b[0m\u001b[0;34m\u001b[0m\u001b[0m\n\u001b[1;32m    123\u001b[0m                 \u001b[0;31m# next_iodepth: int = floor(average(max.io_depth, min.io_depth))\u001b[0m\u001b[0;34m\u001b[0m\u001b[0;34m\u001b[0m\u001b[0;34m\u001b[0m\u001b[0m\n\u001b[0;32m--> 124\u001b[0;31m                     \u001b[0;32mif\u001b[0m \u001b[0mnext_iodepth\u001b[0m \u001b[0;32min\u001b[0m \u001b[0mtested_iodepths\u001b[0m \u001b[0;32mor\u001b[0m \u001b[0mnext_iodepth\u001b[0m \u001b[0;34m<=\u001b[0m \u001b[0;36m0\u001b[0m\u001b[0;34m:\u001b[0m\u001b[0;34m\u001b[0m\u001b[0;34m\u001b[0m\u001b[0m\n\u001b[0m\u001b[1;32m    125\u001b[0m                         \u001b[0;32mcontinue\u001b[0m\u001b[0;34m\u001b[0m\u001b[0;34m\u001b[0m\u001b[0m\n\u001b[1;32m    126\u001b[0m                     \u001b[0mself\u001b[0m\u001b[0;34m.\u001b[0m\u001b[0mconfig\u001b[0m\u001b[0;34m[\u001b[0m\u001b[0;34m'--iodepth'\u001b[0m\u001b[0;34m]\u001b[0m \u001b[0;34m=\u001b[0m \u001b[0mnext_iodepth\u001b[0m\u001b[0;34m\u001b[0m\u001b[0;34m\u001b[0m\u001b[0m\n",
      "\u001b[0;31mKeyboardInterrupt\u001b[0m: "
     ]
    }
   ],
   "source": [
    "fio.find_optimal_iodepth()\n",
    "print(fio.best_run)"
   ]
  },
  {
   "cell_type": "code",
   "execution_count": 79,
   "metadata": {},
   "outputs": [
    {
     "name": "stdout",
     "output_type": "stream",
     "text": [
      "None\n"
     ]
    }
   ],
   "source": [
    "print(fio.best_run)"
   ]
  },
  {
   "attachments": {},
   "cell_type": "markdown",
   "metadata": {},
   "source": [
    "##Notes\n",
    "\n",
    "    # test limits (min, max)\n",
    "    # test midpoint between limits\n",
    "    # average results of min+midpoint and max+midpoint\n",
    "    # \n",
    "    # divide total from min and max into n buckets, then go test all of them,\n",
    "    # sort them \n",
    "    # range(min, max, (abs(max-min))/5)\n",
    "    # slices = 5 \n",
    "    # 10, 20, 2 # ((20-10)/slices = 2)\n",
    "    # k = [10, 12, 14, 16, 18]\n",
    "    # when I do the loop, test if k[n] is already tested\n",
    "    # find the best results from min, max, k[]\n",
    "    \n",
    "\n",
    "    # while not is_optimial:\n",
    "    #     sorted_runs_by_iops: list[FioBase] = sorted(self.runs, key=self.runs.get('total_iops'), reverse=True)\n",
    "    #     # are we going up or down?\n",
    "    #     if sorted_runs_by_iops[0].io_depth - sorted_runs_by_iops[1].io_depth <= 1:\n",
    "    #         is_optimial = True\n",
    "    #         self.optimal_queue_depth = sorted_runs_by_iops[0]\n",
    "    #         return \n",
    "    #     else: \n",
    "    #         next_io_depth = ((sorted_runs_by_iops[0].io_depth + sorted_runs_by_iops[1].io_depth) // 2)\n",
    "    #         if next_io_depth in self.runs:\n",
    "    #             next_io_depth = \n",
    "    #         else:\n",
    "    #             self.prepare_and_run_fio(io_depth=next_io_depth)\n",
    "    "
   ]
  }
 ],
 "metadata": {
  "kernelspec": {
   "display_name": "Python 3",
   "language": "python",
   "name": "python3"
  },
  "language_info": {
   "codemirror_mode": {
    "name": "ipython",
    "version": 3
   },
   "file_extension": ".py",
   "mimetype": "text/x-python",
   "name": "python",
   "nbconvert_exporter": "python",
   "pygments_lexer": "ipython3",
   "version": "3.7.15"
  },
  "orig_nbformat": 4,
  "vscode": {
   "interpreter": {
    "hash": "916dbcbb3f70747c44a77c7bcd40155683ae19c65e1c03b4aa3499c5328201f1"
   }
  }
 },
 "nbformat": 4,
 "nbformat_minor": 2
}
