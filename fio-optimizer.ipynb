{
 "cells": [
  {
   "attachments": {},
   "cell_type": "markdown",
   "metadata": {},
   "source": [
    "# Original testing"
   ]
  },
  {
   "cell_type": "code",
   "execution_count": 1,
   "metadata": {},
   "outputs": [],
   "source": [
    "from utils import models\n",
    "from utils.models import FioBase\n",
    "import subprocess"
   ]
  },
  {
   "cell_type": "code",
   "execution_count": 2,
   "metadata": {},
   "outputs": [
    {
     "name": "stdout",
     "output_type": "stream",
     "text": [
      "<class 'tuple'>\n",
      "<class 'tuple'>\n",
      "<class 'tuple'>\n",
      "<class 'tuple'>\n",
      "<class 'tuple'>\n",
      "<class 'tuple'>\n",
      "<class 'tuple'>\n",
      "<class 'tuple'>\n",
      "<class 'tuple'>\n",
      "<class 'str'>\n",
      "<class 'str'>\n"
     ]
    },
    {
     "data": {
      "text/plain": [
       "['--output-format=json',\n",
       " '--bs=8k',\n",
       " '--name=job1',\n",
       " '--ioengine=libaio',\n",
       " '--iodepth=1',\n",
       " '--size=20m',\n",
       " '--filename=/tmp/test.fio',\n",
       " '--direct=1',\n",
       " '--rw=randread',\n",
       " '--runtime=5',\n",
       " '--group_reporting',\n",
       " '--time_based']"
      ]
     },
     "execution_count": 2,
     "metadata": {},
     "output_type": "execute_result"
    }
   ],
   "source": [
    "f = FioBase()\n",
    "fio_params = [(\"--bs\", \"16k\"), \n",
    "              (\"--name\", \"job1\"), \n",
    "              (\"--ioengine\",\"libaio\"), \n",
    "              (\"--iodepth\", \"1\"), \n",
    "              (\"--size\",\"20m\"), \n",
    "              (\"--filename\",\"/tmp/test.fio\"), \n",
    "              (\"--direct\", \"1\"),\n",
    "              (\"--rw\", \"randrw\"),\n",
    "              (\"--runtime\", \"8\"),\n",
    "              \"--group_reporting\",\n",
    "              \"--time_based\"]\n",
    "param_list: list = [\"--output-format=json\"]\n",
    "for param in fio_params:\n",
    "    print(type(param))\n",
    "    if type(param) == str:\n",
    "        param_list.append(param)\n",
    "    else:\n",
    "        param_list.append(param[0] + \"=\" + param[1])\n",
    "param_list"
   ]
  },
  {
   "cell_type": "code",
   "execution_count": null,
   "metadata": {},
   "outputs": [],
   "source": [
    "fio_process = subprocess.run([\"fio\"] + param_list,\n",
    "                                capture_output=True)\n",
    "fio_process.stdout"
   ]
  },
  {
   "cell_type": "code",
   "execution_count": null,
   "metadata": {},
   "outputs": [],
   "source": [
    "import json\n",
    "from utils.fio_runner import FioRunner\n",
    "json_result = json.loads(fio_process.stdout)\n",
    "fio = FioRunner()\n",
    "# dir(fio)\n",
    "fiobase = fio.stdout_to_FioBase(fio_process.stdout)\n",
    "str(fiobase)"
   ]
  },
  {
   "attachments": {},
   "cell_type": "markdown",
   "metadata": {},
   "source": [
    "# FioOptimizer Class\n",
    "## from optimal-io-depth-search.py"
   ]
  },
  {
   "cell_type": "code",
   "execution_count": 1,
   "metadata": {},
   "outputs": [],
   "source": [
    "%load_ext autoreload\n",
    "%autoreload 2"
   ]
  },
  {
   "cell_type": "code",
   "execution_count": null,
   "metadata": {},
   "outputs": [],
   "source": [
    "# Notes\n",
    "\n",
    "# fio.find_optimal_iodepth()\n",
    "# a = fio.best_run.prepare_args(params=fio.config)\n",
    "# fio_process = subprocess.run(['fio'] + [f\"{k}={v}\" if v else f\"{k}\" for k, v in fio.config.items()], capture_output=True)\n",
    "# print(fio_process)\n",
    "\n",
    "# param_list = [f\"{k}={v}\" if v else f\"{k}\" for k, v in fio.config.items()]\n",
    "# print(param_list)\n",
    "# fio_process = subprocess.run(['fio'] + param_list, capture_output=True)\n",
    "# fio_process.stdout\n",
    "# fio_run: FioBase = FioBase()\n",
    "# fio_run.parse_stdout(raw_stdout=fio_process.stdout)\n",
    "# print(fio.prepare_and_run_fio(io_depth=6))\n",
    "# print(fio.prepare_and_run_fio(io_depth=8))\n",
    "# print(fio.prepare_and_run_fio(io_depth=10))\n",
    "\n",
    "\n",
    "\n",
    "#  Start at 1,40\n",
    "# where do I go in the middle?\n",
    "# slices = 5 \n",
    "# range(1,40 abs(40-1)/slices)  39/5 = 7.x 1+7, 1+(7*2), 1+(7*3), 1+(7*4)\n",
    "\n",
    "# Future TODO - version 1.5+\n",
    "# determine protocol, \n",
    "# bundle fio with the repo\n",
    "# system tunables (max tcp slot table entry, others)\n",
    "\n",
    "# TODO (for MVP)\n",
    "#   128*nconnect number\n",
    "#   128*nr_smb_sessions\n",
    "#   either total_iops as a ratio of latency OR look at delta of total_iops as compared to the delta of latency\n",
    "#       if the latency_delta is larger than iops_delta then store smallest value of latency_delta  \n",
    "#   option for max_io_rate\n",
    "#   option for max_io_rate_before_knee_of_curve\n",
    "\n",
    "\n",
    "\n",
    "\n",
    "\n",
    "\n",
    "\n",
    "\n",
    "\n",
    "\n",
    "# for multihost, we'll have to use an fio config file (fio expects this) and not with cmdline flags"
   ]
  },
  {
   "cell_type": "code",
   "execution_count": 2,
   "metadata": {},
   "outputs": [
    {
     "ename": "NameError",
     "evalue": "name 'fio_params' is not defined",
     "output_type": "error",
     "traceback": [
      "\u001b[0;31m---------------------------------------------------------------------------\u001b[0m",
      "\u001b[0;31mNameError\u001b[0m                                 Traceback (most recent call last)",
      "\u001b[0;32m/tmp/ipykernel_20931/2505754956.py\u001b[0m in \u001b[0;36m<module>\u001b[0;34m\u001b[0m\n\u001b[1;32m     23\u001b[0m \u001b[0;31m# print(param_list)\u001b[0m\u001b[0;34m\u001b[0m\u001b[0;34m\u001b[0m\u001b[0m\n\u001b[1;32m     24\u001b[0m \u001b[0;34m\u001b[0m\u001b[0m\n\u001b[0;32m---> 25\u001b[0;31m \u001b[0mfio\u001b[0m \u001b[0;34m=\u001b[0m \u001b[0mFioOptimizer\u001b[0m\u001b[0;34m(\u001b[0m\u001b[0mmin\u001b[0m\u001b[0;34m=\u001b[0m\u001b[0;36m1\u001b[0m\u001b[0;34m,\u001b[0m \u001b[0mmax\u001b[0m\u001b[0;34m=\u001b[0m\u001b[0;36m40\u001b[0m\u001b[0;34m,\u001b[0m \u001b[0mslices\u001b[0m\u001b[0;34m=\u001b[0m\u001b[0;36m5\u001b[0m\u001b[0;34m,\u001b[0m \u001b[0mfio_params\u001b[0m\u001b[0;34m=\u001b[0m\u001b[0mfio_params\u001b[0m\u001b[0;34m)\u001b[0m\u001b[0;34m\u001b[0m\u001b[0m\n\u001b[0m\u001b[1;32m     26\u001b[0m \u001b[0;34m\u001b[0m\u001b[0m\n\u001b[1;32m     27\u001b[0m \u001b[0;31m# # print(f\"Fio Config: {fio.config}\")\u001b[0m\u001b[0;34m\u001b[0m\u001b[0;34m\u001b[0m\u001b[0m\n",
      "\u001b[0;31mNameError\u001b[0m: name 'fio_params' is not defined"
     ]
    }
   ],
   "source": [
    "from utils import models\n",
    "from utils.models import FioOptimizer, FioBase\n",
    "\n",
    "# fio_params = {\"--bs\": \"16k\", \n",
    "#               \"--name\": \"job1\", \n",
    "#               \"--ioengine\":\"libaio\", \n",
    "#               \"--iodepth\": \"1\", \n",
    "#               \"--size\": \"300m\", \n",
    "#               \"--filename\": \"/mnt/testvol/test.fio\", \n",
    "#               \"--direct\": \"1\",\n",
    "#               \"--rw\": \"randrw\",\n",
    "#               \"--runtime\": \"2s\",\n",
    "#               \"--time_based\": None,\n",
    "#               \"--group_reporting\": None,\n",
    "#               \"--output-format\": \"json\",\n",
    "#               \"--norandommap\": None,\n",
    "#               \"--dedupe_percentage\": 0,\n",
    "#               \"--buffer_compress_percentage\": 50,\n",
    "#               \"--buffer_compress_chunk\": 4096,\n",
    "#               \"--buffer_pattern\": \"\\\"aaaa\\\"\"}\n",
    "# param_list: list = [f\"{k}={v}\" for k, v in fio_params.items()]\n",
    "# print(fio_params)\n",
    "# print(param_list)\n",
    "\n",
    "fio = FioOptimizer(min=1, max=40, slices=5, fio_params=fio_params)\n",
    "\n",
    "# # print(f\"Fio Config: {fio.config}\")\n",
    "\n",
    "# is_optimial: bool = False\n",
    "\n",
    "# starting_io_depths: list = [fio.min, fio.max]    # gotta start some where\n",
    "\n",
    "# for io_depth in starting_io_depths:\n",
    "#     fio.config['--iodepth'] = io_depth\n",
    "#     # print(fio.config)\n",
    "#     fio.prepare_and_run_fio(io_depths=[io_depth])\n",
    "#     # fio.runs[io_depth] = fio_run\n"
   ]
  },
  {
   "cell_type": "code",
   "execution_count": 5,
   "metadata": {},
   "outputs": [
    {
     "name": "stderr",
     "output_type": "stream",
     "text": [
      "ERROR:root:Error code: 1\n",
      "Error Message: b'No jobs(s) defined\\n\\n'\n"
     ]
    },
    {
     "ename": "RuntimeError",
     "evalue": "Error code: 1\nError Message: b'No jobs(s) defined\\n\\n'",
     "output_type": "error",
     "traceback": [
      "\u001b[0;31m---------------------------------------------------------------------------\u001b[0m",
      "\u001b[0;31mRuntimeError\u001b[0m                              Traceback (most recent call last)",
      "\u001b[0;32m/tmp/ipykernel_8029/1299196437.py\u001b[0m in \u001b[0;36m<module>\u001b[0;34m\u001b[0m\n\u001b[0;32m----> 1\u001b[0;31m \u001b[0mfio\u001b[0m\u001b[0;34m.\u001b[0m\u001b[0mfind_optimal_iodepth\u001b[0m\u001b[0;34m(\u001b[0m\u001b[0;34m)\u001b[0m\u001b[0;34m\u001b[0m\u001b[0m\n\u001b[0m\u001b[1;32m      2\u001b[0m \u001b[0mprint\u001b[0m\u001b[0;34m(\u001b[0m\u001b[0mfio\u001b[0m\u001b[0;34m.\u001b[0m\u001b[0mbest_run\u001b[0m\u001b[0;34m)\u001b[0m\u001b[0;34m\u001b[0m\u001b[0m\n",
      "\u001b[0;32m~/code/fio-parser/utils/models.py\u001b[0m in \u001b[0;36mfind_optimal_iodepth\u001b[0;34m(self)\u001b[0m\n\u001b[1;32m    125\u001b[0m             \u001b[0;31m# Test minimum io_depth and maximum io_depth\u001b[0m\u001b[0;34m\u001b[0m\u001b[0;34m\u001b[0m\u001b[0m\n\u001b[1;32m    126\u001b[0m             \u001b[0mlogging\u001b[0m\u001b[0;34m.\u001b[0m\u001b[0minfo\u001b[0m\u001b[0;34m(\u001b[0m\u001b[0;34mf\"min: {self.min}\\t max: {self.max}\"\u001b[0m\u001b[0;34m)\u001b[0m\u001b[0;34m\u001b[0m\u001b[0m\n\u001b[0;32m--> 127\u001b[0;31m             \u001b[0mself\u001b[0m\u001b[0;34m.\u001b[0m\u001b[0mprepare_and_run_fio\u001b[0m\u001b[0;34m(\u001b[0m\u001b[0mio_depths\u001b[0m\u001b[0;34m=\u001b[0m\u001b[0;34m[\u001b[0m\u001b[0mself\u001b[0m\u001b[0;34m.\u001b[0m\u001b[0mmin\u001b[0m\u001b[0;34m,\u001b[0m \u001b[0mself\u001b[0m\u001b[0;34m.\u001b[0m\u001b[0mmax\u001b[0m\u001b[0;34m]\u001b[0m\u001b[0;34m)\u001b[0m\u001b[0;34m\u001b[0m\u001b[0m\n\u001b[0m\u001b[1;32m    128\u001b[0m             \u001b[0;31m# Check if min and max are 1 away from each other,\u001b[0m\u001b[0;34m\u001b[0m\u001b[0;34m\u001b[0m\u001b[0m\n\u001b[1;32m    129\u001b[0m             \u001b[0;31m# if so determine which of the two are better and that is the optimal io depth\u001b[0m\u001b[0;34m\u001b[0m\u001b[0;34m\u001b[0m\u001b[0m\n",
      "\u001b[0;32m~/code/fio-parser/utils/models.py\u001b[0m in \u001b[0;36mprepare_and_run_fio\u001b[0;34m(self, io_depths)\u001b[0m\n\u001b[1;32m    160\u001b[0m             \u001b[0;32mif\u001b[0m \u001b[0mfio_run_process\u001b[0m\u001b[0;34m.\u001b[0m\u001b[0mreturncode\u001b[0m \u001b[0;34m!=\u001b[0m \u001b[0;36m0\u001b[0m\u001b[0;34m:\u001b[0m\u001b[0;34m\u001b[0m\u001b[0m\n\u001b[1;32m    161\u001b[0m                 \u001b[0mlogging\u001b[0m\u001b[0;34m.\u001b[0m\u001b[0merror\u001b[0m\u001b[0;34m(\u001b[0m\u001b[0;34mf\"Error code: {fio_run_process.returncode}\\nError Message: {fio_run_process.stderr}\"\u001b[0m\u001b[0;34m)\u001b[0m\u001b[0;34m\u001b[0m\u001b[0m\n\u001b[0;32m--> 162\u001b[0;31m                 \u001b[0;32mraise\u001b[0m \u001b[0mRuntimeError\u001b[0m\u001b[0;34m(\u001b[0m\u001b[0;34mf\"Error code: {fio_run_process.returncode}\\nError Message: {fio_run_process.stderr}\"\u001b[0m\u001b[0;34m)\u001b[0m\u001b[0;34m\u001b[0m\u001b[0m\n\u001b[0m\u001b[1;32m    163\u001b[0m \u001b[0;34m\u001b[0m\u001b[0m\n\u001b[1;32m    164\u001b[0m             \u001b[0mfio_run\u001b[0m\u001b[0;34m:\u001b[0m \u001b[0mFioBase\u001b[0m \u001b[0;34m=\u001b[0m \u001b[0mFioBase\u001b[0m\u001b[0;34m(\u001b[0m\u001b[0;34m)\u001b[0m\u001b[0;34m\u001b[0m\u001b[0m\n",
      "\u001b[0;31mRuntimeError\u001b[0m: Error code: 1\nError Message: b'No jobs(s) defined\\n\\n'"
     ]
    }
   ],
   "source": [
    "fio.find_optimal_iodepth()\n",
    "print(fio.best_run)"
   ]
  },
  {
   "cell_type": "code",
   "execution_count": 15,
   "metadata": {},
   "outputs": [
    {
     "name": "stdout",
     "output_type": "stream",
     "text": [
      "Index(['read_bandwidth', 'read_latency', 'read_iops', 'write_bandwidth',\n",
      "       'write_latency', 'write_iops', 'total_bandwidth', 'timestamp',\n",
      "       'duration', 'total_iops', 'io_depth', 'jobs', 'ERROR_CODE',\n",
      "       'iops_latency_ratio', 'avg_latency'],\n",
      "      dtype='object')\n"
     ]
    },
    {
     "data": {
      "application/vnd.jupyter.widget-view+json": {
       "model_id": "452965a67aef40c4ab48c54d5df0ff6b",
       "version_major": 2,
       "version_minor": 0
      },
      "text/plain": [
       "interactive(children=(Dropdown(description='x', options=('read_bandwidth', 'read_latency', 'read_iops', 'write…"
      ]
     },
     "metadata": {},
     "output_type": "display_data"
    },
    {
     "data": {
      "text/plain": [
       "<function __main__.my_plot(x: str, y: str, kind: str)>"
      ]
     },
     "execution_count": 15,
     "metadata": {},
     "output_type": "execute_result"
    }
   ],
   "source": [
    "import pandas as pd \n",
    "import json\n",
    "import ipywidgets as widgets\n",
    "df = pd.DataFrame([x.__dict__ for x in fio.runs.values()])\n",
    "print(df.columns)\n",
    "# df.plot(x='io_depth', y='iops_latency_ratio', kind='scatter')\n",
    "def my_plot(x:str, y:str, kind:str):\n",
    "    df.plot(y=y, x=x, kind=kind)\n",
    "# allow user to select a column from df.columns to graph as x and y for input into df.plot\n",
    "# widgets.interact(df.plot, x=df.columns, y=df.columns)\n",
    "\n",
    "widgets.interact(my_plot, x=df.columns, y=df.columns, kind=['scatter', 'line'])\n",
    "\n"
   ]
  },
  {
   "cell_type": "code",
   "execution_count": 2,
   "metadata": {},
   "outputs": [
    {
     "data": {
      "application/vnd.jupyter.widget-view+json": {
       "model_id": "303583057a704b76ae37fc6df8068394",
       "version_major": 2,
       "version_minor": 0
      },
      "text/plain": [
       "interactive(children=(Dropdown(description='x', options=('io_depth', 'read_throughput', 'read_latency', 'read_…"
      ]
     },
     "metadata": {},
     "output_type": "display_data"
    },
    {
     "data": {
      "text/plain": [
       "<function __main__.my_plot(x: str, y: str, kind: str)>"
      ]
     },
     "execution_count": 2,
     "metadata": {},
     "output_type": "execute_result"
    }
   ],
   "source": [
    "import pandas as pd\n",
    "import matplotlib.pyplot as plt\n",
    "import ipywidgets as widgets\n",
    "import scipy\n",
    "df = pd.read_csv('output/4k_randrw/80/fio.csv')\n",
    "# write a function that accepts a pandas dataframe and returns a plot\n",
    "\n",
    "def my_plot(x:str, y:str, kind:str):\n",
    "    df.plot(y=y, x=x, kind=kind)\n",
    "\n",
    "widgets.interact(my_plot, x=df.columns, y=df.columns, kind=['scatter', 'line'])\n"
   ]
  },
  {
   "attachments": {},
   "cell_type": "markdown",
   "metadata": {},
   "source": [
    "##Notes\n",
    "\n",
    "    # test limits (min, max)\n",
    "    # test midpoint between limits\n",
    "    # average results of min+midpoint and max+midpoint\n",
    "    # \n",
    "    # divide total from min and max into n buckets, then go test all of them,\n",
    "    # sort them \n",
    "    # range(min, max, (abs(max-min))/5)\n",
    "    # slices = 5 \n",
    "    # 10, 20, 2 # ((20-10)/slices = 2)\n",
    "    # k = [10, 12, 14, 16, 18]\n",
    "    # when I do the loop, test if k[n] is already tested\n",
    "    # find the best results from min, max, k[]\n",
    "    \n",
    "\n",
    "    # while not is_optimial:\n",
    "    #     sorted_runs_by_iops: list[FioBase] = sorted(self.runs, key=self.runs.get('total_iops'), reverse=True)\n",
    "    #     # are we going up or down?\n",
    "    #     if sorted_runs_by_iops[0].io_depth - sorted_runs_by_iops[1].io_depth <= 1:\n",
    "    #         is_optimial = True\n",
    "    #         self.optimal_queue_depth = sorted_runs_by_iops[0]\n",
    "    #         return \n",
    "    #     else: \n",
    "    #         next_io_depth = ((sorted_runs_by_iops[0].io_depth + sorted_runs_by_iops[1].io_depth) // 2)\n",
    "    #         if next_io_depth in self.runs:\n",
    "    #             next_io_depth = \n",
    "    #         else:\n",
    "    #             self.prepare_and_run_fio(io_depth=next_io_depth)\n",
    "    "
   ]
  },
  {
   "cell_type": "code",
   "execution_count": 16,
   "metadata": {},
   "outputs": [
    {
     "data": {
      "image/png": "[encoded data removed]",
      "text/plain": [
       "<Figure size 1000x600 with 1 Axes>"
      ]
     },
     "metadata": {},
     "output_type": "display_data"
    },
    {
     "data": {
      "image/png": "[encoded data removed]",
      "text/plain": [
       "<Figure size 640x480 with 1 Axes>"
      ]
     },
     "metadata": {},
     "output_type": "display_data"
    },
    {
     "data": {
      "application/vnd.jupyter.widget-view+json": {
       "model_id": "8cf087c70f1a48a599545c278195dac4",
       "version_major": 2,
       "version_minor": 0
      },
      "text/plain": [
       "interactive(children=(Dropdown(description='x', options=('read_bandwidth', 'read_latency', 'read_iops', 'write…"
      ]
     },
     "metadata": {},
     "output_type": "display_data"
    },
    {
     "data": {
      "text/plain": [
       "<function __main__.my_plot(x: str, y: str, kind: str)>"
      ]
     },
     "execution_count": 16,
     "metadata": {},
     "output_type": "execute_result"
    }
   ],
   "source": [
    "import ipywidgets as widgets\n",
    "import numpy as np\n",
    "import matplotlib\n",
    "# fio is my variable with all the good data in it\n",
    "\n",
    "def trendline(x):\n",
    "    return 0.5 * x + 100\n",
    "\n",
    "plt, ax = matplotlib.pyplot.subplots( figsize=(10, 6) )\n",
    "df = fio.to_DataFrame()\n",
    "\n",
    "\n",
    "\n",
    "# generate a chart of iops vs latency\n",
    "def my_plot(x:str, y:str, kind:str):\n",
    "    trendline = np.poly1d(np.polyfit(df[x], df[y], 1))\n",
    "    ax.plot(df[x], trendline(df[x]), color='red')\n",
    "    df.plot(y=y, x=x, kind=kind)\n",
    "    # add a trendline to the chart\n",
    "    \n",
    "     \n",
    "\n",
    "widgets.interact(my_plot, x=df.columns, y=df.columns, kind=['scatter', 'line'])\n"
   ]
  },
  {
   "cell_type": "code",
   "execution_count": null,
   "metadata": {},
   "outputs": [],
   "source": [
    "def overall_response_time(throughput: list, latency: list):\n",
    "    \"\"\"\n",
    "    Calculate the overall response time for a given throughput and latency.\n",
    "    \"\"\"\n",
    "    curve = fit_latency_curve(throughput, latency)\n",
    "    area_under_curve = curve.integ()\n",
    "    response_time = (1/throughput) * area_under_curve\n",
    "    return response_time\n",
    "\n",
    "\n",
    "import numpy as np\n",
    "import pandas as pd\n",
    "def fit_latency_curve(throughput: list, latency: list):\n",
    "    \"\"\"    Fit a curve to the latency data using a weighted least squares method.    \"\"\"\n",
    "    curve = np.polynomial.polynomial.Polynomial.fit(x=throughput, y=latency, deg=2, w=1/throughput)\n",
    "    return curve\n",
    "\n",
    "# example_data = np.genfromtxt('output/4k_randrw/80/fio.csv', delimiter=',', names=True)\n",
    "# ORT = overall_response_time(example_data.total_throughput, example_data.avg_latency)\n",
    "# df = pd.DataFrame(example_data[['total_throughput', 'avg_latency']])\n",
    "\n",
    "example_data = pd.read_csv('output/8k_randrw/10/fio.csv')\n",
    "throughput = example_data.total_throughput\n",
    "latency = example_data.avg_latency\n",
    "curve = np.polynomial.polynomial.Polynomial.fit(x=throughput, y=latency, deg=2, w=1/throughput)\n",
    "area = curve.integ()\n",
    "print(f'curve: {curve} \\n area: {area} ')\n",
    "# throughput_x_new = np.linspace(throughput.min(), throughput.max(), throughput.count())\n",
    "# latency_mathed = np.polyval(curve, throughput_x_new)\n",
    "print(f'curve: {curve} \\n area: {area} ') # \\n throughput_x_new: {throughput_x_new} \\n latency_mathed: {latency_mathed}')\n",
    "\n",
    "# print(df)\n",
    "# print(f't_new: {t_new}') # \\n l_new: {l_new}')\n",
    "\n"
   ]
  },
  {
   "cell_type": "code",
   "execution_count": 107,
   "metadata": {},
   "outputs": [
    {
     "name": "stdout",
     "output_type": "stream",
     "text": [
      "curve: 1765.1663874029543 + 2517.9624362194554·x¹ + 1761.7086751494098·x² \n",
      " area: 0.0 + 661594070.413758·x¹ + 471873084.94422555·x² + 220099366.94790402·x³ \n",
      " ORT: 1549.6747643898996\n",
      "0.00046952744872882723\n"
     ]
    }
   ],
   "source": [
    "example_data = pd.read_csv('output/128k_rw/10/fio.csv')\n",
    "example_data.sort_values(by='io_depth', inplace=True)\n",
    "throughput = example_data.total_throughput\n",
    "latency = example_data.avg_latency\n",
    "latency_curve = np.polynomial.polynomial.Polynomial.fit(x=throughput, y=latency, deg=2, w=1/throughput) # w(x) in the paper \n",
    "area_under_latency_curve = latency_curve.integ()                                                        # a(x) in the paper\n",
    "x=0.72\n",
    "# response_time = area_under_latency_curve(x)                                                             # r(x) in the paper\n",
    "response_time = latency_curve(x)                                                             # r(x) in the paper\n",
    "ATP = x/response_time                                                                                # ATP(x) in the paper\n",
    "\n",
    "def overall_response_time(throughput: list, latency: list, x_val: int):\n",
    "    \"\"\"\n",
    "    Calculate the overall response time for a given throughput and latency.\n",
    "    \"\"\"\n",
    "    latency_curve = np.polynomial.polynomial.Polynomial.fit(x=throughput, y=latency, deg=2, w=1/throughput)     # w(x) in the paper \n",
    "    area_under_latency_curve = latency_curve.integ()                                                            # a(x) in the paper \n",
    "    response_time = area_under_latency_curve(x_val) / x_val                                                     # r(x) in the paper\n",
    "    return response_time\n",
    "\n",
    "def accelerated_throughput_power(x_val: int, riot: int):\n",
    "    return (x_val**(1+riot))\n",
    "\n",
    "ORT = overall_response_time(throughput, latency, throughput.max())\n",
    "# ATP = [overall_response_time(throughput, latency, x) for x in throughput]\n",
    "riot = 1 # alpha in the paper\n",
    "\n",
    "print(f'curve: {curve} \\n area: {area} \\n ORT: {ORT}')\n",
    "print(ATP)\n",
    "\n"
   ]
  },
  {
   "cell_type": "code",
   "execution_count": 103,
   "metadata": {},
   "outputs": [
    {
     "data": {
      "image/png": "[encoded data removed]",
      "text/plain": [
       "<Figure size 640x480 with 2 Axes>"
      ]
     },
     "metadata": {},
     "output_type": "display_data"
    },
    {
     "name": "stdout",
     "output_type": "stream",
     "text": [
      "[-3309.24614963895, -3061.011091111846, -2840.851786103581, -2644.3423471267743, -2467.92660516102, -2308.714480922923, -2164.3330081300587, -2032.815628718257, -1912.5187602902533, -1802.058106634129, -1700.259467566787, -1606.120337868931, -1518.7796318545911, -1437.4935959671986, -1361.616482438638, -1290.584921121314, -1223.9051894062306, -1161.1427720333759, -1101.9137442243334, -1045.87761713933, -992.7313640982244, -942.2044063035486, -894.0543829534157, -848.0635662281024, -804.035809291535, -761.7939370874078, -721.1775067502307, -682.0408779547948, -644.2515442908723, -607.6886853774638, -572.2419063834105, -537.8101372523066, -504.3006685127257, -471.62830430211807, -439.7146163103103, -408.48728488678444, -377.87951565782134, -347.82952174695436, -318.28006315021986, -289.1780360386756, -260.47410578664005, -232.12237838911838, -204.08010566345502, -176.3074202509267, -148.76709696209025, -121.42433746034759, -94.24657566379274, -67.20330157622418, -40.265901542765064, -13.407513170915102, 13.397106630065622, 40.171701854772266, 66.93862705605325, 93.71894751312023, 120.53253085720034, 147.39813099275148, 174.33346505960577, 201.3552841001088, 228.47943802388735, 255.72093539995575, 283.0939985503638, 310.6121143705684, 338.28808125828, 366.1340524940577, 394.16157638275564, 422.3816334345234, 450.8046708369841, 479.4406344460786, 508.29899850148104, 537.3887932531883, 566.718630668608, 596.2967283739603, 626.1309319698807, 656.2287358485793, 686.5973026286559, 717.2434813134834, 748.1738242699042, 779.394603115702, 810.911823596801, 842.7312395283482, 874.8583658677027, 907.2984909817308, 940.0566881657641, 973.1378264669302, 1006.5465808603867, 1040.2874418231506, 1074.364724346709, 1108.7825764264358, 1143.5449870629031, 1178.6557938075105, 1214.1186898824394, 1249.9372309026728, 1286.1148412258015, 1322.6548199534284, 1359.5603466062857, 1396.83448649356, 1434.4801957954955, 1472.5003263769577, 1510.8976303484505, 1549.6747643898996]\n"
     ]
    }
   ],
   "source": [
    "import matplotlib.pyplot as plt\n",
    "\n",
    "throughput_x_new = np.linspace(throughput.min(), throughput.max(), throughput.count())\n",
    "latency_mathed = latency_curve(throughput_x_new)\n",
    "\n",
    "\n",
    "# Find the value of latency_mathed at 73% of the way along the line\n",
    "point_idx = int(0.73 * len(latency_mathed))\n",
    "x_val = throughput_x_new[point_idx]\n",
    "y_val = latency_mathed[point_idx]\n",
    "\n",
    "throughput_vals = np.linspace(throughput.min(), throughput.max(), 100)\n",
    "response_time_vals = [overall_response_time(throughput, latency, x) for x in throughput_vals]\n",
    "\n",
    "# Plot the throughput/latency curve and the response time curve\n",
    "fig, ax1 = plt.subplots()\n",
    "\n",
    "ax1.plot(throughput, latency, 'o', label='Latency Values')\n",
    "ax1.plot(throughput_vals, latency_curve(throughput_vals), '-', label='Latency Curve - w(x)')\n",
    "ax1.set_xlabel('Throughput (KiB/s)')\n",
    "ax1.set_ylabel('Latency (us)')\n",
    "ax1.tick_params(axis='y')\n",
    "\n",
    "ax2 = ax1.twinx()\n",
    "\n",
    "ax2.plot(throughput_vals, response_time_vals, label='ORT Curve - r(x)')\n",
    "ax2.set_ylabel('Response Time (ms)')\n",
    "ax2.tick_params(axis='y')\n",
    "\n",
    "fig.legend(loc='upper right')\n",
    "plt.show()\n",
    "print(response_time_vals)\n",
    "\n",
    "\n"
   ]
  }
 ],
 "metadata": {
  "kernelspec": {
   "display_name": "Python 3 (ipykernel)",
   "language": "python",
   "name": "python3"
  },
  "language_info": {
   "codemirror_mode": {
    "name": "ipython",
    "version": 3
   },
   "file_extension": ".py",
   "mimetype": "text/x-python",
   "name": "python",
   "nbconvert_exporter": "python",
   "pygments_lexer": "ipython3",
   "version": "3.7.0"
  },
  "orig_nbformat": 4,
  "vscode": {
   "interpreter": {
    "hash": "4b8e647a79df62bf31906a725b05de775d285962ac600487339d38c51a5c07b1"
   }
  }
 },
 "nbformat": 4,
 "nbformat_minor": 2
}
